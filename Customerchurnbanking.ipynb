{
  "nbformat": 4,
  "nbformat_minor": 0,
  "metadata": {
    "colab": {
      "private_outputs": true,
      "provenance": [],
      "authorship_tag": "ABX9TyMetjpiQdYotCDuJAwRMVmt",
      "include_colab_link": true
    },
    "kernelspec": {
      "name": "python3",
      "display_name": "Python 3"
    },
    "language_info": {
      "name": "python"
    }
  },
  "cells": [
    {
      "cell_type": "markdown",
      "metadata": {
        "id": "view-in-github",
        "colab_type": "text"
      },
      "source": [
        "<a href=\"https://colab.research.google.com/github/SAJAD-52/CODSOFT/blob/main/Customerchurnbanking.ipynb\" target=\"_parent\"><img src=\"https://colab.research.google.com/assets/colab-badge.svg\" alt=\"Open In Colab\"/></a>"
      ]
    },
    {
      "cell_type": "code",
      "execution_count": null,
      "metadata": {
        "id": "WxB7VZCk2mfb"
      },
      "outputs": [],
      "source": [
        "import pandas as pd\n",
        "import numpy as np\n",
        "import matplotlib.pyplot as plt\n",
        "from sklearn.linear_model import LogisticRegression\n",
        "from sklearn.ensemble import RandomForestClassifier, GradientBoostingClassifier\n",
        "import seaborn as sns"
      ]
    },
    {
      "cell_type": "code",
      "source": [
        "data = pd.read_csv('Churn_Modelling.csv')\n",
        "data.head()"
      ],
      "metadata": {
        "id": "g_DpvJOlhZrW"
      },
      "execution_count": null,
      "outputs": []
    },
    {
      "cell_type": "code",
      "source": [
        "data.shape"
      ],
      "metadata": {
        "id": "r7GEHjTZjtRn"
      },
      "execution_count": null,
      "outputs": []
    },
    {
      "cell_type": "code",
      "source": [
        "data.info()"
      ],
      "metadata": {
        "id": "vVTY84HbhiuE"
      },
      "execution_count": null,
      "outputs": []
    },
    {
      "cell_type": "code",
      "source": [
        "data.describe()"
      ],
      "metadata": {
        "id": "XIM0Oo8ph0SD"
      },
      "execution_count": null,
      "outputs": []
    },
    {
      "cell_type": "code",
      "source": [
        "sns.countplot(data, x=\"Gender\", hue=\"Exited\")"
      ],
      "metadata": {
        "id": "7SC_bQ89kbLX"
      },
      "execution_count": null,
      "outputs": []
    },
    {
      "cell_type": "code",
      "source": [
        "sns.countplot(data, x=\"Geography\", hue=\"Exited\")"
      ],
      "metadata": {
        "id": "XcS8-EISrw5k"
      },
      "execution_count": null,
      "outputs": []
    },
    {
      "cell_type": "code",
      "source": [
        "print(data[\"Gender\"].unique())"
      ],
      "metadata": {
        "id": "I_NeFqsRMBfj"
      },
      "execution_count": null,
      "outputs": []
    },
    {
      "cell_type": "code",
      "source": [
        "print(data[\"Geography\"].unique())"
      ],
      "metadata": {
        "id": "TVqd9I0mNMHi"
      },
      "execution_count": null,
      "outputs": []
    },
    {
      "cell_type": "code",
      "source": [
        "#lets preprocess the data\n",
        "data.isnull().count()"
      ],
      "metadata": {
        "id": "MdNm6nAdsIjS"
      },
      "execution_count": null,
      "outputs": []
    },
    {
      "cell_type": "code",
      "source": [
        "data.isnull().sum()"
      ],
      "metadata": {
        "id": "lSYXpgfnS_mF"
      },
      "execution_count": null,
      "outputs": []
    },
    {
      "cell_type": "code",
      "source": [
        "data1 = pd.get_dummies(data, columns=[\"Gender\", \"Geography\"], drop_first=False)"
      ],
      "metadata": {
        "id": "jW6ZAlOHbZi0"
      },
      "execution_count": null,
      "outputs": []
    },
    {
      "cell_type": "code",
      "source": [
        "data1.head()"
      ],
      "metadata": {
        "id": "ERH0z1dwb-c5"
      },
      "execution_count": null,
      "outputs": []
    },
    {
      "cell_type": "code",
      "source": [],
      "metadata": {
        "id": "4QzMdYLydtI-"
      },
      "execution_count": null,
      "outputs": []
    },
    {
      "cell_type": "code",
      "source": [
        "data2= data1.drop(['RowNumber', 'Surname', 'CustomerId'], axis=1)"
      ],
      "metadata": {
        "id": "pEAc77hIb9ZS"
      },
      "execution_count": null,
      "outputs": []
    },
    {
      "cell_type": "code",
      "source": [
        "data2[\"Geography_France\"] = data2[\"Geography_France\"].astype(int)\n",
        "data2[\"Geography_Germany\"] = data2[\"Geography_Germany\"].astype(int)\n",
        "data2[\"Geography_Spain\"] = data2[\"Geography_Spain\"].astype(int)\n",
        "data2[\"Gender_Female\"] = data2[\"Gender_Female\"].astype(int)\n",
        "data2[\"Gender_Male\"] = data2[\"Gender_Male\"].astype(int)"
      ],
      "metadata": {
        "id": "i7HsYer6O2Qy"
      },
      "execution_count": null,
      "outputs": []
    },
    {
      "cell_type": "code",
      "source": [
        "data2.head()"
      ],
      "metadata": {
        "id": "BS6S9Q4nPpHd"
      },
      "execution_count": null,
      "outputs": []
    },
    {
      "cell_type": "code",
      "source": [
        "cor = data2.corr()\n",
        "print(cor)"
      ],
      "metadata": {
        "id": "yoeNXy4Fe84s"
      },
      "execution_count": null,
      "outputs": []
    },
    {
      "cell_type": "code",
      "source": [
        "sns.heatmap(cor, annot=False, cmap=\"coolwarm\")"
      ],
      "metadata": {
        "id": "p_YBExCYfEza"
      },
      "execution_count": null,
      "outputs": []
    },
    {
      "cell_type": "code",
      "source": [
        "data3= data2.drop(['CreditScore', 'Tenure', 'HasCrCard', 'EstimatedSalary'], axis=1)"
      ],
      "metadata": {
        "id": "CIvRbcOhLnpw"
      },
      "execution_count": null,
      "outputs": []
    },
    {
      "cell_type": "code",
      "source": [
        "cor2 = data3.corr()\n",
        "sns.heatmap(cor2, annot=False, cmap='coolwarm')"
      ],
      "metadata": {
        "id": "tulbWvcXNsN7"
      },
      "execution_count": null,
      "outputs": []
    },
    {
      "cell_type": "code",
      "source": [
        "from sklearn.model_selection import train_test_split\n",
        "\n",
        "X = data3.drop(['Exited'], axis=1)\n",
        "y = data3['Exited']\n",
        "\n",
        "X_train, X_test, y_train, y_test = train_test_split(X, y, test_size=0.2, random_state=42)"
      ],
      "metadata": {
        "id": "sFQ79jpTOPdE"
      },
      "execution_count": null,
      "outputs": []
    },
    {
      "cell_type": "code",
      "source": [
        "from sklearn.linear_model import LogisticRegression\n",
        "from sklearn.ensemble import RandomForestClassifier, GradientBoostingClassifier\n",
        "from sklearn.metrics import accuracy_score, precision_score, recall_score, f1_score, confusion_matrix\n",
        "\n",
        "logistic = LogisticRegression()\n",
        "rfc = RandomForestClassifier()\n",
        "gbc = GradientBoostingClassifier()\n",
        "\n",
        "logistic.fit(X_train, y_train)\n",
        "log_pred = logistic.predict(X_test)\n",
        "\n",
        "accuracy_score_log= accuracy_score(y_test, log_pred)\n",
        "print(accuracy_score_log)"
      ],
      "metadata": {
        "id": "VOlMEQW-RA6y"
      },
      "execution_count": null,
      "outputs": []
    },
    {
      "cell_type": "code",
      "source": [
        "rfc.fit(X_train, y_train)\n",
        "rfc_pred = rfc.predict(X_test)\n",
        "\n",
        "accuracy_score_rfc= accuracy_score(y_test, rfc_pred)\n",
        "\n",
        "print(accuracy_score_rfc)"
      ],
      "metadata": {
        "id": "Rz3AQYAdYJl-"
      },
      "execution_count": null,
      "outputs": []
    },
    {
      "cell_type": "code",
      "source": [
        "gbc.fit(X_train, y_train)\n",
        "gbc_pred = gbc.predict(X_test)\n",
        "\n",
        "accuracy_score_gbc= accuracy_score(y_test, gbc_pred)\n",
        "\n",
        "print(accuracy_score_gbc)"
      ],
      "metadata": {
        "id": "zSg30uKKdtMC"
      },
      "execution_count": null,
      "outputs": []
    },
    {
      "cell_type": "code",
      "source": [],
      "metadata": {
        "id": "j2bAWHZJdxix"
      },
      "execution_count": null,
      "outputs": []
    }
  ]
}