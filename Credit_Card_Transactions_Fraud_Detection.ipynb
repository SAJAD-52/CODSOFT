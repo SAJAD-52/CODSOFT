{
  "nbformat": 4,
  "nbformat_minor": 0,
  "metadata": {
    "colab": {
      "private_outputs": true,
      "provenance": [],
      "authorship_tag": "ABX9TyNlBxrcXLYjVKl107TSzW8w",
      "include_colab_link": true
    },
    "kernelspec": {
      "name": "python3",
      "display_name": "Python 3"
    },
    "language_info": {
      "name": "python"
    }
  },
  "cells": [
    {
      "cell_type": "markdown",
      "metadata": {
        "id": "view-in-github",
        "colab_type": "text"
      },
      "source": [
        "<a href=\"https://colab.research.google.com/github/SAJAD-52/CODSOFT/blob/main/Credit_Card_Transactions_Fraud_Detection.ipynb\" target=\"_parent\"><img src=\"https://colab.research.google.com/assets/colab-badge.svg\" alt=\"Open In Colab\"/></a>"
      ]
    },
    {
      "cell_type": "code",
      "execution_count": null,
      "metadata": {
        "id": "YUYbMJfsWVPV"
      },
      "outputs": [],
      "source": [
        "import pandas as pd\n",
        "import numpy as np\n",
        "import seaborn as sns\n",
        "from sklearn.ensemble import RandomForestClassifier, GradientBoostingClassifier\n",
        "from sklearn.linear_model import LogisticRegression\n",
        "from sklearn.model_selection import train_test_split\n",
        "import matplotlib.pyplot as plt\n"
      ]
    },
    {
      "cell_type": "code",
      "source": [
        "data = pd.read_csv('fraudTrain.csv')\n",
        "data.head()"
      ],
      "metadata": {
        "id": "PwQArxiobFrv"
      },
      "execution_count": null,
      "outputs": []
    },
    {
      "cell_type": "code",
      "source": [
        "data.info()"
      ],
      "metadata": {
        "id": "sU5fsuCbcHTV"
      },
      "execution_count": null,
      "outputs": []
    },
    {
      "cell_type": "code",
      "source": [
        "data.isnull().sum()"
      ],
      "metadata": {
        "id": "lVX-tlE-m1ng"
      },
      "execution_count": null,
      "outputs": []
    },
    {
      "cell_type": "code",
      "source": [
        "data.describe()"
      ],
      "metadata": {
        "id": "S_fRhyB_noUN"
      },
      "execution_count": null,
      "outputs": []
    },
    {
      "cell_type": "code",
      "source": [
        "#visualization\n",
        "sns.set(style='whitegrid')\n",
        "sns.countplot(x='is_fraud', data=data)\n",
        "sns.despine()\n",
        "plt.title('Distribution of Fraudulent vs Legitimate Transactions')\n",
        "plt.show()"
      ],
      "metadata": {
        "id": "nvY5pEvpoBa8"
      },
      "execution_count": null,
      "outputs": []
    },
    {
      "cell_type": "code",
      "source": [
        "sns.countplot(x='gender', data=data)\n",
        "plt.title('count of gender')\n",
        "plt.show()"
      ],
      "metadata": {
        "id": "8KRqP5aLqL6f"
      },
      "execution_count": null,
      "outputs": []
    },
    {
      "cell_type": "code",
      "source": [
        "sns.countplot(data, x='gender', hue='is_fraud' )\n",
        "plt.title('fraud distrubtion by gender')\n",
        "plt.show()"
      ],
      "metadata": {
        "id": "plQe2PoquM_U"
      },
      "execution_count": null,
      "outputs": []
    },
    {
      "cell_type": "code",
      "source": [
        "# Get the top N cities by frequency\n",
        "top_cities = data['city'].value_counts().head(10).index  # Change 10 to the desired number of cities\n",
        "print(top_cities)"
      ],
      "metadata": {
        "id": "73t622QowqQJ"
      },
      "execution_count": null,
      "outputs": []
    },
    {
      "cell_type": "code",
      "source": [
        "# Filter the data to include only the top cities\n",
        "data_top_cities = data[data['city'].isin(top_cities)]\n",
        "data_top_cities.head()"
      ],
      "metadata": {
        "id": "BtliFas-1c2E"
      },
      "execution_count": null,
      "outputs": []
    },
    {
      "cell_type": "code",
      "source": [
        "sns.countplot(data=data_top_cities, y='city', hue='is_fraud')\n",
        "plt.ylabel('city')\n",
        "plt.xlabel('count')\n",
        "plt.title('fraud by city')\n",
        "plt.show()"
      ],
      "metadata": {
        "id": "jRlKwjY22Fyu"
      },
      "execution_count": null,
      "outputs": []
    },
    {
      "cell_type": "code",
      "source": [
        "# Plot relationship between transaction category and fraud\n",
        "#plt.figure(figsize=(12, 8))\n",
        "#sns.countplot(y='category', hue='is_fraud', data=data_to_amt)\n",
        "#sns.despine()\n",
        "#plt.title('Relationship between Transaction Category and Fraud')\n",
        "#plt.ylabel('Category')\n",
        "#plt.xlabel('Frequency')\n",
        "#plt.show()"
      ],
      "metadata": {
        "id": "tH0gJ9-azO-l"
      },
      "execution_count": null,
      "outputs": []
    },
    {
      "cell_type": "code",
      "source": [
        "# Get the top 20 amounts where fraud is equal to 1\n",
        "fraudulent_transactions = data[data['is_fraud'] == 1]\n",
        "# Filter the data to include only the rows with the top 20 amounts where fraud is equal to 1\n",
        "data_top_amt_fraudulent = fraudulent_transactions['amt'].value_counts().head(20).index\n",
        "# Filter the data to include only the rows with the top 20 amounts from fraudulent transactions\n",
        "data_top_amt_fraudulent = fraudulent_transactions[fraudulent_transactions['amt'].isin(data_top_amt_fraudulent)]"
      ],
      "metadata": {
        "id": "ky8uD-qsf5Kx"
      },
      "execution_count": null,
      "outputs": []
    },
    {
      "cell_type": "code",
      "source": [
        "fraudulent_transactions.head()"
      ],
      "metadata": {
        "id": "VnWjfAhPmoCF"
      },
      "execution_count": null,
      "outputs": []
    },
    {
      "cell_type": "code",
      "source": [
        "# Sort the data by the count of fraudulent transactions for each amount in descending order\n",
        "sorted_amt = data_top_amt_fraudulent.groupby('amt')['is_fraud'].sum().sort_values(ascending=False).index\n",
        "\n",
        "# Plot 20 top amount by fraud count\n",
        "plt.figure(figsize=(12, 8))\n",
        "sns.countplot(y='amt', hue='is_fraud', order=sorted_amt, data=data_top_amt_fraudulent )\n",
        "sns.despine()\n",
        "plt.title('Relationship between Transaction Category and Fraud')\n",
        "plt.ylabel('Category')\n",
        "plt.xlabel('Frequency')\n",
        "plt.show()"
      ],
      "metadata": {
        "id": "TuxapqETgQ0r"
      },
      "execution_count": null,
      "outputs": []
    },
    {
      "cell_type": "code",
      "source": [
        "#Features selection\n",
        "data_dropped = data.drop(['Unnamed: 0'], axis=1)\n",
        "# Select only numeric columns for feature selection\n",
        "numeric_columns = data_dropped.select_dtypes(include=['int64', 'float64']).columns\n",
        "corr = data_dropped[numeric_columns].corr()"
      ],
      "metadata": {
        "id": "l7cK2nfPXl0N"
      },
      "execution_count": null,
      "outputs": []
    },
    {
      "cell_type": "code",
      "source": [
        "#plot the  correlation heatmap\n",
        "plt.figure(figsize=(12, 8))\n",
        "sns.heatmap(corr, annot=True, cmap='coolwarm')\n",
        "plt.title('Correlation Heatmap')\n",
        "plt.show()"
      ],
      "metadata": {
        "id": "R1l5dUTTch7d"
      },
      "execution_count": null,
      "outputs": []
    },
    {
      "cell_type": "code",
      "source": [
        "data.info()"
      ],
      "metadata": {
        "id": "_oautsTDljp5"
      },
      "execution_count": null,
      "outputs": []
    },
    {
      "cell_type": "code",
      "source": [
        "from scipy.stats import chi2_contingency\n",
        "# Assuming your original DataFrame is named 'data'\n",
        "categorical_features = data.select_dtypes(include=['object']).copy()\n",
        "# Iterate over each categorical feature\n",
        "for column in categorical_features.columns:\n",
        "    # Contingency table between the current categorical feature and the target variable\n",
        "    contingency_table = pd.crosstab(categorical_features[column], data['is_fraud'])\n",
        "\n",
        "    # Chi-square test\n",
        "    chi2, p_value, _, _ = chi2_contingency(contingency_table)\n",
        "\n",
        "    # Print results\n",
        "    print(\"Feature:\", column)\n",
        "    print(\"Chi-square value:\", chi2)\n",
        "    print(\"P-value:\", p_value)\n",
        "    print(\"\\n\")"
      ],
      "metadata": {
        "id": "5yo47ZHJsbA2"
      },
      "execution_count": null,
      "outputs": []
    },
    {
      "cell_type": "code",
      "source": [
        "#lets use start classifer\n",
        "from sklearn.linear_model import LogisticRegression\n",
        "from sklearn.metrics import classification_report\n",
        "from sklearn.preprocessing import OneHotEncoder\n",
        "\n",
        "data.dropna(subset=['merchant', 'category', 'street', 'city', 'job', 'dob', 'state', 'amt','is_fraud'], inplace=True)\n",
        "\n",
        "\n",
        "X = data[['merchant', 'category', 'street', 'city', 'job', 'dob', 'state', 'amt']]\n",
        "X_train = X.iloc[:, :-1]\n",
        "Y_train = data['is_fraud']\n",
        "\n",
        "onecoder = OneHotEncoder()\n",
        "X_encoded = onecoder.fit_transform(X_train)\n"
      ],
      "metadata": {
        "id": "QcAOlVXQmk70"
      },
      "execution_count": null,
      "outputs": []
    },
    {
      "cell_type": "code",
      "source": [
        "data_test = pd.read_csv('Copie de Copie de fraudTest.csv', on_bad_lines='skip')\n",
        "data_test.head()\n"
      ],
      "metadata": {
        "id": "yF-Cdi5uHD9U"
      },
      "execution_count": null,
      "outputs": []
    },
    {
      "cell_type": "code",
      "source": [
        "data_test.dropna(inplace=True)"
      ],
      "metadata": {
        "id": "n_e4kYT0sSyW"
      },
      "execution_count": null,
      "outputs": []
    },
    {
      "cell_type": "code",
      "source": [
        "data_test.describe()"
      ],
      "metadata": {
        "id": "8RImAs49qnn4"
      },
      "execution_count": null,
      "outputs": []
    },
    {
      "cell_type": "code",
      "source": [
        "Xt= data_test[['merchant', 'category', 'street', 'city', 'job', 'dob', 'state', 'amt']]\n",
        "Xtest = Xt.iloc[:, :-1]\n",
        "Ytest = data_test['is_fraud']\n",
        "\n",
        "X_test_encoded = onecoder.fit_transform(Xtest)"
      ],
      "metadata": {
        "id": "Kfr61JtknqP1"
      },
      "execution_count": null,
      "outputs": []
    },
    {
      "cell_type": "code",
      "source": [],
      "metadata": {
        "id": "oziVcW2lqLLw"
      },
      "execution_count": null,
      "outputs": []
    },
    {
      "cell_type": "code",
      "source": [
        "from sklearn.ensemble import RandomForestClassifier\n",
        "RFC = RandomForestClassifier()\n",
        "\n",
        "\n",
        "RFC.fit(X_test_encoded, Ytest)\n",
        "pred_y = RFC.predict(X_test_encoded)"
      ],
      "metadata": {
        "id": "ryzmMyE5o6_K"
      },
      "execution_count": null,
      "outputs": []
    },
    {
      "cell_type": "code",
      "source": [
        "# Print classification report\n",
        "print(classification_report(Ytest, pred_y))"
      ],
      "metadata": {
        "id": "Ejh4UZ0Lsz0Y"
      },
      "execution_count": null,
      "outputs": []
    },
    {
      "cell_type": "code",
      "source": [
        "LRC = LogisticRegression()\n",
        "LRC.fit(X_test_encoded, Ytest)\n",
        "pred_y2 = LRC.predict(X_test_encoded)"
      ],
      "metadata": {
        "id": "k3eHYgNZm6bd"
      },
      "execution_count": null,
      "outputs": []
    },
    {
      "cell_type": "code",
      "source": [
        "# Print classification report\n",
        "print(classification_report(Ytest, pred_y2))"
      ],
      "metadata": {
        "id": "5k6jsRojIJY8"
      },
      "execution_count": null,
      "outputs": []
    },
    {
      "cell_type": "code",
      "source": [
        "from sklearn.tree import DecisionTreeClassifier\n",
        "DTC = DecisionTreeClassifier()\n",
        "\n",
        "DTC.fit(X_test_encoded, Ytest)\n",
        "y_pred3 = DTC.predict(X_test_encoded)"
      ],
      "metadata": {
        "id": "hEXglkiRuFNp"
      },
      "execution_count": null,
      "outputs": []
    },
    {
      "cell_type": "code",
      "source": [
        "print(classification_report(Ytest, y_pred3))"
      ],
      "metadata": {
        "id": "l95znuMPutYQ"
      },
      "execution_count": null,
      "outputs": []
    },
    {
      "cell_type": "code",
      "source": [],
      "metadata": {
        "id": "hRRohNHyuvMk"
      },
      "execution_count": null,
      "outputs": []
    }
  ]
}